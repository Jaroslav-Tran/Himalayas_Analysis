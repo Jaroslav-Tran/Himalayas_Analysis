{
 "cells": [
  {
   "cell_type": "markdown",
   "metadata": {},
   "source": [
    "# Step 0 - Setup and loading of files\n",
    "#### Loading dplyr (R library)\n",
    "#### Loading expeditions and members dataset and substituting missing values by NA\n",
    "#### Checking (right number of rows and columns) and understanding both datasets"
   ]
  },
  {
   "cell_type": "code",
   "execution_count": 3,
   "metadata": {},
   "outputs": [
    {
     "name": "stderr",
     "output_type": "stream",
     "text": [
      "\n",
      "Attaching package: 'dplyr'\n",
      "\n",
      "The following objects are masked from 'package:stats':\n",
      "\n",
      "    filter, lag\n",
      "\n",
      "The following objects are masked from 'package:base':\n",
      "\n",
      "    intersect, setdiff, setequal, union\n",
      "\n"
     ]
    },
    {
     "data": {
      "text/html": [
       "<ol class=list-inline>\n",
       "\t<li>9797</li>\n",
       "\t<li>65</li>\n",
       "</ol>\n"
      ],
      "text/latex": [
       "\\begin{enumerate*}\n",
       "\\item 9797\n",
       "\\item 65\n",
       "\\end{enumerate*}\n"
      ],
      "text/markdown": [
       "1. 9797\n",
       "2. 65\n",
       "\n",
       "\n"
      ],
      "text/plain": [
       "[1] 9797   65"
      ]
     },
     "metadata": {},
     "output_type": "display_data"
    },
    {
     "data": {
      "text/html": [
       "<ol class=list-inline>\n",
       "\t<li>65534</li>\n",
       "\t<li>65</li>\n",
       "</ol>\n"
      ],
      "text/latex": [
       "\\begin{enumerate*}\n",
       "\\item 65534\n",
       "\\item 65\n",
       "\\end{enumerate*}\n"
      ],
      "text/markdown": [
       "1. 65534\n",
       "2. 65\n",
       "\n",
       "\n"
      ],
      "text/plain": [
       "[1] 65534    65"
      ]
     },
     "metadata": {},
     "output_type": "display_data"
    }
   ],
   "source": [
    "library(dplyr)\n",
    "expeditions = read.csv(file=\"expeditions_all.csv\", na.strings = \"NA\", header=TRUE, sep=\";\")\n",
    "members = read.csv(file=\"members_all.csv\", na.string = \"NA\", header=TRUE, sep=\";\")\n",
    "\n",
    "dim(expeditions)\n",
    "dim(members)"
   ]
  },
  {
   "cell_type": "markdown",
   "metadata": {},
   "source": [
    "# Step 1 - Selecting and filtering columns we need\n",
    "#### Selecting columns from the expedition table I need (expid, success, season, o2used, nohired, totmembers)\n",
    "#### Taking members table and filtering out all the members with H-A Worker Status (Helper or Assistants) as we only want to analyze climbers, not hired personal.\n",
    "#### Grouping members by expedition id and calculating an average age of each expedition and total members to check if the aggreggated number of members per expedition is equal to totmember variable in expedition table"
   ]
  },
  {
   "cell_type": "code",
   "execution_count": 4,
   "metadata": {},
   "outputs": [
    {
     "data": {
      "text/html": [
       "<table>\n",
       "<thead><tr><th scope=col>expid</th><th scope=col>avg_age</th><th scope=col>total</th></tr></thead>\n",
       "<tbody>\n",
       "\t<tr><td>ACHN15301</td><td>22.40000 </td><td>5        </td></tr>\n",
       "\t<tr><td>ACHN15302</td><td>53.66667 </td><td>9        </td></tr>\n",
       "\t<tr><td>AMAD00101</td><td>30.60000 </td><td>5        </td></tr>\n",
       "\t<tr><td>AMAD00102</td><td>38.80000 </td><td>5        </td></tr>\n",
       "\t<tr><td>AMAD00103</td><td>39.75000 </td><td>4        </td></tr>\n",
       "\t<tr><td>AMAD00104</td><td>33.16667 </td><td>6        </td></tr>\n",
       "</tbody>\n",
       "</table>\n"
      ],
      "text/latex": [
       "\\begin{tabular}{r|lll}\n",
       " expid & avg\\_age & total\\\\\n",
       "\\hline\n",
       "\t ACHN15301 & 22.40000  & 5        \\\\\n",
       "\t ACHN15302 & 53.66667  & 9        \\\\\n",
       "\t AMAD00101 & 30.60000  & 5        \\\\\n",
       "\t AMAD00102 & 38.80000  & 5        \\\\\n",
       "\t AMAD00103 & 39.75000  & 4        \\\\\n",
       "\t AMAD00104 & 33.16667  & 6        \\\\\n",
       "\\end{tabular}\n"
      ],
      "text/markdown": [
       "\n",
       "expid | avg_age | total | \n",
       "|---|---|---|---|---|---|\n",
       "| ACHN15301 | 22.40000  | 5         | \n",
       "| ACHN15302 | 53.66667  | 9         | \n",
       "| AMAD00101 | 30.60000  | 5         | \n",
       "| AMAD00102 | 38.80000  | 5         | \n",
       "| AMAD00103 | 39.75000  | 4         | \n",
       "| AMAD00104 | 33.16667  | 6         | \n",
       "\n",
       "\n"
      ],
      "text/plain": [
       "  expid     avg_age  total\n",
       "1 ACHN15301 22.40000 5    \n",
       "2 ACHN15302 53.66667 9    \n",
       "3 AMAD00101 30.60000 5    \n",
       "4 AMAD00102 38.80000 5    \n",
       "5 AMAD00103 39.75000 4    \n",
       "6 AMAD00104 33.16667 6    "
      ]
     },
     "metadata": {},
     "output_type": "display_data"
    },
    {
     "data": {
      "text/html": [
       "<ol class=list-inline>\n",
       "\t<li>9029</li>\n",
       "\t<li>3</li>\n",
       "</ol>\n"
      ],
      "text/latex": [
       "\\begin{enumerate*}\n",
       "\\item 9029\n",
       "\\item 3\n",
       "\\end{enumerate*}\n"
      ],
      "text/markdown": [
       "1. 9029\n",
       "2. 3\n",
       "\n",
       "\n"
      ],
      "text/plain": [
       "[1] 9029    3"
      ]
     },
     "metadata": {},
     "output_type": "display_data"
    }
   ],
   "source": [
    "subset_expeditions = select(expeditions, expid, success, season, o2used, nohired, totmembers)\n",
    "#filtered_members = filter(members, !status %in% c(\"H-A Worker\"))\n",
    "filtered_members = filter(members, !status == \"H-A Worker\")\n",
    "subset_members = filtered_members  %>%\n",
    "                    group_by(expid)  %>%\n",
    "                    select(expid, calcage)  %>%\n",
    "                    summarise(avg_age = mean(calcage),\n",
    "                             total = n())\n",
    "head(subset_members)\n",
    "dim(subset_members)"
   ]
  },
  {
   "cell_type": "markdown",
   "metadata": {},
   "source": [
    "# Step 2 - Merging and coding variables in subsets of expedition and members table\n",
    "#### Joining subsets of expedition and members table together based on expid variable\n",
    "#### Coding o2used(o2use), nohired(nohire) and season(season_dichotomous) variables into 0 and 1.\n",
    "#### Creating new solo variable based on totmembers. If totmembers is 0 or 1, we consider the expedition to be solo; Otherwise, it is not. \n",
    "#### Discarding pre-coded variables (o2used, nohired, season, total)"
   ]
  },
  {
   "cell_type": "code",
   "execution_count": 5,
   "metadata": {},
   "outputs": [
    {
     "name": "stderr",
     "output_type": "stream",
     "text": [
      "Warning message:\n",
      "\"Column `expid` joining factors with different levels, coercing to character vector\""
     ]
    },
    {
     "data": {
      "text/html": [
       "<table>\n",
       "<thead><tr><th scope=col>expid</th><th scope=col>success</th><th scope=col>season</th><th scope=col>o2used</th><th scope=col>nohired</th><th scope=col>totmembers</th><th scope=col>avg_age</th><th scope=col>total</th></tr></thead>\n",
       "<tbody>\n",
       "\t<tr><td>ANN260101</td><td>1        </td><td>1        </td><td> TRUE    </td><td>FALSE    </td><td>10       </td><td>25.10000 </td><td>10       </td></tr>\n",
       "\t<tr><td>ANN269301</td><td>1        </td><td>3        </td><td>FALSE    </td><td>FALSE    </td><td>10       </td><td>25.60000 </td><td>10       </td></tr>\n",
       "\t<tr><td>ANN273101</td><td>1        </td><td>1        </td><td>FALSE    </td><td>FALSE    </td><td> 6       </td><td>28.33333 </td><td> 6       </td></tr>\n",
       "\t<tr><td>ANN278301</td><td>0        </td><td>3        </td><td>FALSE    </td><td> TRUE    </td><td> 2       </td><td>32.50000 </td><td> 2       </td></tr>\n",
       "\t<tr><td>ANN279301</td><td>0        </td><td>3        </td><td>FALSE    </td><td> TRUE    </td><td> 3       </td><td>29.00000 </td><td> 3       </td></tr>\n",
       "\t<tr><td>ANN280101</td><td>0        </td><td>1        </td><td>FALSE    </td><td>FALSE    </td><td> 6       </td><td>29.33333 </td><td> 6       </td></tr>\n",
       "</tbody>\n",
       "</table>\n"
      ],
      "text/latex": [
       "\\begin{tabular}{r|llllllll}\n",
       " expid & success & season & o2used & nohired & totmembers & avg\\_age & total\\\\\n",
       "\\hline\n",
       "\t ANN260101 & 1         & 1         &  TRUE     & FALSE     & 10        & 25.10000  & 10       \\\\\n",
       "\t ANN269301 & 1         & 3         & FALSE     & FALSE     & 10        & 25.60000  & 10       \\\\\n",
       "\t ANN273101 & 1         & 1         & FALSE     & FALSE     &  6        & 28.33333  &  6       \\\\\n",
       "\t ANN278301 & 0         & 3         & FALSE     &  TRUE     &  2        & 32.50000  &  2       \\\\\n",
       "\t ANN279301 & 0         & 3         & FALSE     &  TRUE     &  3        & 29.00000  &  3       \\\\\n",
       "\t ANN280101 & 0         & 1         & FALSE     & FALSE     &  6        & 29.33333  &  6       \\\\\n",
       "\\end{tabular}\n"
      ],
      "text/markdown": [
       "\n",
       "expid | success | season | o2used | nohired | totmembers | avg_age | total | \n",
       "|---|---|---|---|---|---|\n",
       "| ANN260101 | 1         | 1         |  TRUE     | FALSE     | 10        | 25.10000  | 10        | \n",
       "| ANN269301 | 1         | 3         | FALSE     | FALSE     | 10        | 25.60000  | 10        | \n",
       "| ANN273101 | 1         | 1         | FALSE     | FALSE     |  6        | 28.33333  |  6        | \n",
       "| ANN278301 | 0         | 3         | FALSE     |  TRUE     |  2        | 32.50000  |  2        | \n",
       "| ANN279301 | 0         | 3         | FALSE     |  TRUE     |  3        | 29.00000  |  3        | \n",
       "| ANN280101 | 0         | 1         | FALSE     | FALSE     |  6        | 29.33333  |  6        | \n",
       "\n",
       "\n"
      ],
      "text/plain": [
       "  expid     success season o2used nohired totmembers avg_age  total\n",
       "1 ANN260101 1       1       TRUE  FALSE   10         25.10000 10   \n",
       "2 ANN269301 1       3      FALSE  FALSE   10         25.60000 10   \n",
       "3 ANN273101 1       1      FALSE  FALSE    6         28.33333  6   \n",
       "4 ANN278301 0       3      FALSE   TRUE    2         32.50000  2   \n",
       "5 ANN279301 0       3      FALSE   TRUE    3         29.00000  3   \n",
       "6 ANN280101 0       1      FALSE  FALSE    6         29.33333  6   "
      ]
     },
     "metadata": {},
     "output_type": "display_data"
    },
    {
     "data": {
      "text/html": [
       "<table>\n",
       "<thead><tr><th scope=col>expid</th><th scope=col>success</th><th scope=col>season</th><th scope=col>o2used</th><th scope=col>nohired</th><th scope=col>totmembers</th><th scope=col>avg_age</th><th scope=col>total</th><th scope=col>o2use</th><th scope=col>nohire</th><th scope=col>season_dichotomous</th><th scope=col>solo</th></tr></thead>\n",
       "<tbody>\n",
       "\t<tr><td>ANN260101</td><td>1        </td><td>1        </td><td> TRUE    </td><td>FALSE    </td><td>10       </td><td>25.10000 </td><td>10       </td><td>1        </td><td>0        </td><td>0        </td><td>0        </td></tr>\n",
       "\t<tr><td>ANN269301</td><td>1        </td><td>3        </td><td>FALSE    </td><td>FALSE    </td><td>10       </td><td>25.60000 </td><td>10       </td><td>0        </td><td>0        </td><td>1        </td><td>0        </td></tr>\n",
       "\t<tr><td>ANN273101</td><td>1        </td><td>1        </td><td>FALSE    </td><td>FALSE    </td><td> 6       </td><td>28.33333 </td><td> 6       </td><td>0        </td><td>0        </td><td>0        </td><td>0        </td></tr>\n",
       "\t<tr><td>ANN278301</td><td>0        </td><td>3        </td><td>FALSE    </td><td> TRUE    </td><td> 2       </td><td>32.50000 </td><td> 2       </td><td>0        </td><td>1        </td><td>1        </td><td>0        </td></tr>\n",
       "\t<tr><td>ANN279301</td><td>0        </td><td>3        </td><td>FALSE    </td><td> TRUE    </td><td> 3       </td><td>29.00000 </td><td> 3       </td><td>0        </td><td>1        </td><td>1        </td><td>0        </td></tr>\n",
       "\t<tr><td>ANN280101</td><td>0        </td><td>1        </td><td>FALSE    </td><td>FALSE    </td><td> 6       </td><td>29.33333 </td><td> 6       </td><td>0        </td><td>0        </td><td>0        </td><td>0        </td></tr>\n",
       "</tbody>\n",
       "</table>\n"
      ],
      "text/latex": [
       "\\begin{tabular}{r|llllllllllll}\n",
       " expid & success & season & o2used & nohired & totmembers & avg\\_age & total & o2use & nohire & season\\_dichotomous & solo\\\\\n",
       "\\hline\n",
       "\t ANN260101 & 1         & 1         &  TRUE     & FALSE     & 10        & 25.10000  & 10        & 1         & 0         & 0         & 0        \\\\\n",
       "\t ANN269301 & 1         & 3         & FALSE     & FALSE     & 10        & 25.60000  & 10        & 0         & 0         & 1         & 0        \\\\\n",
       "\t ANN273101 & 1         & 1         & FALSE     & FALSE     &  6        & 28.33333  &  6        & 0         & 0         & 0         & 0        \\\\\n",
       "\t ANN278301 & 0         & 3         & FALSE     &  TRUE     &  2        & 32.50000  &  2        & 0         & 1         & 1         & 0        \\\\\n",
       "\t ANN279301 & 0         & 3         & FALSE     &  TRUE     &  3        & 29.00000  &  3        & 0         & 1         & 1         & 0        \\\\\n",
       "\t ANN280101 & 0         & 1         & FALSE     & FALSE     &  6        & 29.33333  &  6        & 0         & 0         & 0         & 0        \\\\\n",
       "\\end{tabular}\n"
      ],
      "text/markdown": [
       "\n",
       "expid | success | season | o2used | nohired | totmembers | avg_age | total | o2use | nohire | season_dichotomous | solo | \n",
       "|---|---|---|---|---|---|\n",
       "| ANN260101 | 1         | 1         |  TRUE     | FALSE     | 10        | 25.10000  | 10        | 1         | 0         | 0         | 0         | \n",
       "| ANN269301 | 1         | 3         | FALSE     | FALSE     | 10        | 25.60000  | 10        | 0         | 0         | 1         | 0         | \n",
       "| ANN273101 | 1         | 1         | FALSE     | FALSE     |  6        | 28.33333  |  6        | 0         | 0         | 0         | 0         | \n",
       "| ANN278301 | 0         | 3         | FALSE     |  TRUE     |  2        | 32.50000  |  2        | 0         | 1         | 1         | 0         | \n",
       "| ANN279301 | 0         | 3         | FALSE     |  TRUE     |  3        | 29.00000  |  3        | 0         | 1         | 1         | 0         | \n",
       "| ANN280101 | 0         | 1         | FALSE     | FALSE     |  6        | 29.33333  |  6        | 0         | 0         | 0         | 0         | \n",
       "\n",
       "\n"
      ],
      "text/plain": [
       "  expid     success season o2used nohired totmembers avg_age  total o2use\n",
       "1 ANN260101 1       1       TRUE  FALSE   10         25.10000 10    1    \n",
       "2 ANN269301 1       3      FALSE  FALSE   10         25.60000 10    0    \n",
       "3 ANN273101 1       1      FALSE  FALSE    6         28.33333  6    0    \n",
       "4 ANN278301 0       3      FALSE   TRUE    2         32.50000  2    0    \n",
       "5 ANN279301 0       3      FALSE   TRUE    3         29.00000  3    0    \n",
       "6 ANN280101 0       1      FALSE  FALSE    6         29.33333  6    0    \n",
       "  nohire season_dichotomous solo\n",
       "1 0      0                  0   \n",
       "2 0      1                  0   \n",
       "3 0      0                  0   \n",
       "4 1      1                  0   \n",
       "5 1      1                  0   \n",
       "6 0      0                  0   "
      ]
     },
     "metadata": {},
     "output_type": "display_data"
    },
    {
     "data": {
      "text/html": [
       "<table>\n",
       "<thead><tr><th scope=col>expid</th><th scope=col>success</th><th scope=col>totmembers</th><th scope=col>avg_age</th><th scope=col>o2use</th><th scope=col>nohire</th><th scope=col>season_dichotomous</th><th scope=col>solo</th></tr></thead>\n",
       "<tbody>\n",
       "\t<tr><td>ANN260101</td><td>1        </td><td>10       </td><td>25.100000</td><td>1        </td><td>0        </td><td>0        </td><td>0        </td></tr>\n",
       "\t<tr><td>ANN269301</td><td>1        </td><td>10       </td><td>25.600000</td><td>0        </td><td>0        </td><td>1        </td><td>0        </td></tr>\n",
       "\t<tr><td>ANN273101</td><td>1        </td><td> 6       </td><td>28.333333</td><td>0        </td><td>0        </td><td>0        </td><td>0        </td></tr>\n",
       "\t<tr><td>ANN278301</td><td>0        </td><td> 2       </td><td>32.500000</td><td>0        </td><td>1        </td><td>1        </td><td>0        </td></tr>\n",
       "\t<tr><td>ANN279301</td><td>0        </td><td> 3       </td><td>29.000000</td><td>0        </td><td>1        </td><td>1        </td><td>0        </td></tr>\n",
       "\t<tr><td>ANN280101</td><td>0        </td><td> 6       </td><td>29.333333</td><td>0        </td><td>0        </td><td>0        </td><td>0        </td></tr>\n",
       "\t<tr><td>ANN280102</td><td>0        </td><td> 7       </td><td>29.625000</td><td>0        </td><td>0        </td><td>0        </td><td>0        </td></tr>\n",
       "\t<tr><td>ANN281302</td><td>0        </td><td>19       </td><td>37.736842</td><td>0        </td><td>1        </td><td>1        </td><td>0        </td></tr>\n",
       "\t<tr><td>ANN281301</td><td>0        </td><td> 9       </td><td>32.555556</td><td>0        </td><td>0        </td><td>1        </td><td>0        </td></tr>\n",
       "\t<tr><td>ANN282301</td><td>0        </td><td> 5       </td><td>31.800000</td><td>0        </td><td>1        </td><td>1        </td><td>0        </td></tr>\n",
       "\t<tr><td>ANN283101</td><td>0        </td><td> 5       </td><td>10.200000</td><td>0        </td><td>0        </td><td>0        </td><td>0        </td></tr>\n",
       "\t<tr><td>ANN283301</td><td>1        </td><td> 5       </td><td>26.333333</td><td>0        </td><td>0        </td><td>1        </td><td>0        </td></tr>\n",
       "\t<tr><td>ANN283302</td><td>0        </td><td> 6       </td><td>27.833333</td><td>0        </td><td>0        </td><td>1        </td><td>0        </td></tr>\n",
       "\t<tr><td>ANN283401</td><td>0        </td><td> 4       </td><td>26.800000</td><td>0        </td><td>0        </td><td>1        </td><td>0        </td></tr>\n",
       "\t<tr><td>ANN284101</td><td>0        </td><td> 3       </td><td>34.000000</td><td>0        </td><td>1        </td><td>0        </td><td>0        </td></tr>\n",
       "\t<tr><td>ANN284301</td><td>0        </td><td> 4       </td><td>35.000000</td><td>0        </td><td>0        </td><td>1        </td><td>0        </td></tr>\n",
       "\t<tr><td>ANN285301</td><td>0        </td><td> 8       </td><td>34.625000</td><td>0        </td><td>0        </td><td>1        </td><td>0        </td></tr>\n",
       "\t<tr><td>ANN286102</td><td>0        </td><td> 7       </td><td>30.428571</td><td>0        </td><td>1        </td><td>0        </td><td>0        </td></tr>\n",
       "\t<tr><td>ANN286101</td><td>0        </td><td> 9       </td><td>33.222222</td><td>0        </td><td>1        </td><td>0        </td><td>0        </td></tr>\n",
       "\t<tr><td>ANN287301</td><td>0        </td><td> 2       </td><td>41.500000</td><td>0        </td><td>1        </td><td>1        </td><td>0        </td></tr>\n",
       "\t<tr><td>ANN290301</td><td>0        </td><td> 7       </td><td>32.142857</td><td>0        </td><td>0        </td><td>1        </td><td>0        </td></tr>\n",
       "\t<tr><td>ANN450201</td><td>0        </td><td> 6       </td><td>37.000000</td><td>0        </td><td>0        </td><td>0        </td><td>0        </td></tr>\n",
       "\t<tr><td>ANN452301</td><td>0        </td><td> 6       </td><td>31.333333</td><td>0        </td><td>0        </td><td>1        </td><td>0        </td></tr>\n",
       "\t<tr><td>ANN453101</td><td>0        </td><td> 2       </td><td>50.000000</td><td>0        </td><td>1        </td><td>0        </td><td>0        </td></tr>\n",
       "\t<tr><td>ANN453301</td><td>0        </td><td> 7       </td><td> 9.857143</td><td>0        </td><td>0        </td><td>1        </td><td>0        </td></tr>\n",
       "\t<tr><td>ANN455101</td><td>1        </td><td> 4       </td><td>26.250000</td><td>0        </td><td>0        </td><td>0        </td><td>0        </td></tr>\n",
       "\t<tr><td>ANN457101</td><td>1        </td><td> 2       </td><td>34.000000</td><td>0        </td><td>0        </td><td>0        </td><td>0        </td></tr>\n",
       "\t<tr><td>ANN460101</td><td>1        </td><td> 4       </td><td>25.000000</td><td>0        </td><td>0        </td><td>0        </td><td>0        </td></tr>\n",
       "\t<tr><td>ANN469301</td><td>1        </td><td> 9       </td><td>39.888889</td><td>0        </td><td>0        </td><td>1        </td><td>0        </td></tr>\n",
       "\t<tr><td>ANN469302</td><td>1        </td><td>10       </td><td>25.600000</td><td>0        </td><td>0        </td><td>1        </td><td>0        </td></tr>\n",
       "\t<tr><td>...</td><td>...</td><td>...</td><td>...</td><td>...</td><td>...</td><td>...</td><td>...</td></tr>\n",
       "\t<tr><td>LNAK15301</td><td>0        </td><td> 6       </td><td>NA       </td><td>0        </td><td>1        </td><td>1        </td><td>0        </td></tr>\n",
       "\t<tr><td>CHOL05401</td><td>0        </td><td> 2       </td><td>NA       </td><td>0        </td><td>1        </td><td>1        </td><td>0        </td></tr>\n",
       "\t<tr><td>LOBW05101</td><td>1        </td><td> 6       </td><td>NA       </td><td>0        </td><td>1        </td><td>0        </td><td>0        </td></tr>\n",
       "\t<tr><td>TENE05301</td><td>1        </td><td> 5       </td><td>NA       </td><td>0        </td><td>1        </td><td>1        </td><td>0        </td></tr>\n",
       "\t<tr><td>CHOY90103</td><td>0        </td><td> 9       </td><td>NA       </td><td>0        </td><td>0        </td><td>0        </td><td>0        </td></tr>\n",
       "\t<tr><td>MANA17333</td><td>1        </td><td> 4       </td><td>NA       </td><td>1        </td><td>0        </td><td>1        </td><td>0        </td></tr>\n",
       "\t<tr><td>CHOL11301</td><td>0        </td><td> 2       </td><td>NA       </td><td>0        </td><td>1        </td><td>1        </td><td>0        </td></tr>\n",
       "\t<tr><td>AMAD17352</td><td>0        </td><td> 2       </td><td>NA       </td><td>0        </td><td>1        </td><td>1        </td><td>0        </td></tr>\n",
       "\t<tr><td>CHOY09120</td><td>0        </td><td> 3       </td><td>NA       </td><td>0        </td><td>1        </td><td>0        </td><td>0        </td></tr>\n",
       "\t<tr><td>EVER17401</td><td>0        </td><td> 2       </td><td>NA       </td><td>0        </td><td>0        </td><td>1        </td><td>0        </td></tr>\n",
       "\t<tr><td>PUMO17401</td><td>1        </td><td> 2       </td><td>NA       </td><td>0        </td><td>0        </td><td>1        </td><td>0        </td></tr>\n",
       "\t<tr><td>AMAD17353</td><td>1        </td><td>18       </td><td>NA       </td><td>0        </td><td>0        </td><td>1        </td><td>0        </td></tr>\n",
       "\t<tr><td>AMAD17354</td><td>0        </td><td> 3       </td><td>NA       </td><td>0        </td><td>1        </td><td>1        </td><td>0        </td></tr>\n",
       "\t<tr><td>AMAD17355</td><td>1        </td><td> 7       </td><td>NA       </td><td>0        </td><td>1        </td><td>1        </td><td>0        </td></tr>\n",
       "\t<tr><td>AMAD17356</td><td>1        </td><td> 7       </td><td>NA       </td><td>0        </td><td>0        </td><td>1        </td><td>0        </td></tr>\n",
       "\t<tr><td>CHUG17301</td><td>1        </td><td> 3       </td><td>NA       </td><td>0        </td><td>1        </td><td>1        </td><td>0        </td></tr>\n",
       "\t<tr><td>HIML17308</td><td>1        </td><td> 6       </td><td>NA       </td><td>0        </td><td>0        </td><td>1        </td><td>0        </td></tr>\n",
       "\t<tr><td>HIML17309</td><td>1        </td><td>13       </td><td>NA       </td><td>0        </td><td>0        </td><td>1        </td><td>0        </td></tr>\n",
       "\t<tr><td>LDAK17301</td><td>1        </td><td>10       </td><td>NA       </td><td>0        </td><td>0        </td><td>1        </td><td>0        </td></tr>\n",
       "\t<tr><td>AMAD17357</td><td>1        </td><td> 1       </td><td>NA       </td><td>0        </td><td>0        </td><td>1        </td><td>1        </td></tr>\n",
       "\t<tr><td>MANA17344</td><td>1        </td><td> 3       </td><td>NA       </td><td>0        </td><td>0        </td><td>1        </td><td>0        </td></tr>\n",
       "\t<tr><td>EVER17195</td><td>1        </td><td> 1       </td><td>NA       </td><td>1        </td><td>0        </td><td>0        </td><td>1        </td></tr>\n",
       "\t<tr><td>FUTI14101</td><td>1        </td><td> 4       </td><td>NA       </td><td>0        </td><td>1        </td><td>0        </td><td>0        </td></tr>\n",
       "\t<tr><td>ROLM17301</td><td>1        </td><td> 3       </td><td>NA       </td><td>0        </td><td>1        </td><td>1        </td><td>0        </td></tr>\n",
       "\t<tr><td>EVER13190</td><td>1        </td><td> 2       </td><td>NA       </td><td>1        </td><td>1        </td><td>0        </td><td>0        </td></tr>\n",
       "\t<tr><td>EVER16176</td><td>1        </td><td> 1       </td><td>NA       </td><td>1        </td><td>0        </td><td>0        </td><td>1        </td></tr>\n",
       "\t<tr><td>EVER16177</td><td>1        </td><td> 2       </td><td>NA       </td><td>1        </td><td>0        </td><td>0        </td><td>0        </td></tr>\n",
       "\t<tr><td>KCHS17401</td><td>1        </td><td> 2       </td><td>NA       </td><td>0        </td><td>1        </td><td>1        </td><td>0        </td></tr>\n",
       "\t<tr><td>KCHS17402</td><td>1        </td><td> 1       </td><td>NA       </td><td>0        </td><td>1        </td><td>1        </td><td>1        </td></tr>\n",
       "\t<tr><td>KORL17301</td><td>0        </td><td> 6       </td><td>NA       </td><td>0        </td><td>0        </td><td>1        </td><td>0        </td></tr>\n",
       "</tbody>\n",
       "</table>\n"
      ],
      "text/latex": [
       "\\begin{tabular}{r|llllllll}\n",
       " expid & success & totmembers & avg\\_age & o2use & nohire & season\\_dichotomous & solo\\\\\n",
       "\\hline\n",
       "\t ANN260101 & 1         & 10        & 25.100000 & 1         & 0         & 0         & 0        \\\\\n",
       "\t ANN269301 & 1         & 10        & 25.600000 & 0         & 0         & 1         & 0        \\\\\n",
       "\t ANN273101 & 1         &  6        & 28.333333 & 0         & 0         & 0         & 0        \\\\\n",
       "\t ANN278301 & 0         &  2        & 32.500000 & 0         & 1         & 1         & 0        \\\\\n",
       "\t ANN279301 & 0         &  3        & 29.000000 & 0         & 1         & 1         & 0        \\\\\n",
       "\t ANN280101 & 0         &  6        & 29.333333 & 0         & 0         & 0         & 0        \\\\\n",
       "\t ANN280102 & 0         &  7        & 29.625000 & 0         & 0         & 0         & 0        \\\\\n",
       "\t ANN281302 & 0         & 19        & 37.736842 & 0         & 1         & 1         & 0        \\\\\n",
       "\t ANN281301 & 0         &  9        & 32.555556 & 0         & 0         & 1         & 0        \\\\\n",
       "\t ANN282301 & 0         &  5        & 31.800000 & 0         & 1         & 1         & 0        \\\\\n",
       "\t ANN283101 & 0         &  5        & 10.200000 & 0         & 0         & 0         & 0        \\\\\n",
       "\t ANN283301 & 1         &  5        & 26.333333 & 0         & 0         & 1         & 0        \\\\\n",
       "\t ANN283302 & 0         &  6        & 27.833333 & 0         & 0         & 1         & 0        \\\\\n",
       "\t ANN283401 & 0         &  4        & 26.800000 & 0         & 0         & 1         & 0        \\\\\n",
       "\t ANN284101 & 0         &  3        & 34.000000 & 0         & 1         & 0         & 0        \\\\\n",
       "\t ANN284301 & 0         &  4        & 35.000000 & 0         & 0         & 1         & 0        \\\\\n",
       "\t ANN285301 & 0         &  8        & 34.625000 & 0         & 0         & 1         & 0        \\\\\n",
       "\t ANN286102 & 0         &  7        & 30.428571 & 0         & 1         & 0         & 0        \\\\\n",
       "\t ANN286101 & 0         &  9        & 33.222222 & 0         & 1         & 0         & 0        \\\\\n",
       "\t ANN287301 & 0         &  2        & 41.500000 & 0         & 1         & 1         & 0        \\\\\n",
       "\t ANN290301 & 0         &  7        & 32.142857 & 0         & 0         & 1         & 0        \\\\\n",
       "\t ANN450201 & 0         &  6        & 37.000000 & 0         & 0         & 0         & 0        \\\\\n",
       "\t ANN452301 & 0         &  6        & 31.333333 & 0         & 0         & 1         & 0        \\\\\n",
       "\t ANN453101 & 0         &  2        & 50.000000 & 0         & 1         & 0         & 0        \\\\\n",
       "\t ANN453301 & 0         &  7        &  9.857143 & 0         & 0         & 1         & 0        \\\\\n",
       "\t ANN455101 & 1         &  4        & 26.250000 & 0         & 0         & 0         & 0        \\\\\n",
       "\t ANN457101 & 1         &  2        & 34.000000 & 0         & 0         & 0         & 0        \\\\\n",
       "\t ANN460101 & 1         &  4        & 25.000000 & 0         & 0         & 0         & 0        \\\\\n",
       "\t ANN469301 & 1         &  9        & 39.888889 & 0         & 0         & 1         & 0        \\\\\n",
       "\t ANN469302 & 1         & 10        & 25.600000 & 0         & 0         & 1         & 0        \\\\\n",
       "\t ... & ... & ... & ... & ... & ... & ... & ...\\\\\n",
       "\t LNAK15301 & 0         &  6        & NA        & 0         & 1         & 1         & 0        \\\\\n",
       "\t CHOL05401 & 0         &  2        & NA        & 0         & 1         & 1         & 0        \\\\\n",
       "\t LOBW05101 & 1         &  6        & NA        & 0         & 1         & 0         & 0        \\\\\n",
       "\t TENE05301 & 1         &  5        & NA        & 0         & 1         & 1         & 0        \\\\\n",
       "\t CHOY90103 & 0         &  9        & NA        & 0         & 0         & 0         & 0        \\\\\n",
       "\t MANA17333 & 1         &  4        & NA        & 1         & 0         & 1         & 0        \\\\\n",
       "\t CHOL11301 & 0         &  2        & NA        & 0         & 1         & 1         & 0        \\\\\n",
       "\t AMAD17352 & 0         &  2        & NA        & 0         & 1         & 1         & 0        \\\\\n",
       "\t CHOY09120 & 0         &  3        & NA        & 0         & 1         & 0         & 0        \\\\\n",
       "\t EVER17401 & 0         &  2        & NA        & 0         & 0         & 1         & 0        \\\\\n",
       "\t PUMO17401 & 1         &  2        & NA        & 0         & 0         & 1         & 0        \\\\\n",
       "\t AMAD17353 & 1         & 18        & NA        & 0         & 0         & 1         & 0        \\\\\n",
       "\t AMAD17354 & 0         &  3        & NA        & 0         & 1         & 1         & 0        \\\\\n",
       "\t AMAD17355 & 1         &  7        & NA        & 0         & 1         & 1         & 0        \\\\\n",
       "\t AMAD17356 & 1         &  7        & NA        & 0         & 0         & 1         & 0        \\\\\n",
       "\t CHUG17301 & 1         &  3        & NA        & 0         & 1         & 1         & 0        \\\\\n",
       "\t HIML17308 & 1         &  6        & NA        & 0         & 0         & 1         & 0        \\\\\n",
       "\t HIML17309 & 1         & 13        & NA        & 0         & 0         & 1         & 0        \\\\\n",
       "\t LDAK17301 & 1         & 10        & NA        & 0         & 0         & 1         & 0        \\\\\n",
       "\t AMAD17357 & 1         &  1        & NA        & 0         & 0         & 1         & 1        \\\\\n",
       "\t MANA17344 & 1         &  3        & NA        & 0         & 0         & 1         & 0        \\\\\n",
       "\t EVER17195 & 1         &  1        & NA        & 1         & 0         & 0         & 1        \\\\\n",
       "\t FUTI14101 & 1         &  4        & NA        & 0         & 1         & 0         & 0        \\\\\n",
       "\t ROLM17301 & 1         &  3        & NA        & 0         & 1         & 1         & 0        \\\\\n",
       "\t EVER13190 & 1         &  2        & NA        & 1         & 1         & 0         & 0        \\\\\n",
       "\t EVER16176 & 1         &  1        & NA        & 1         & 0         & 0         & 1        \\\\\n",
       "\t EVER16177 & 1         &  2        & NA        & 1         & 0         & 0         & 0        \\\\\n",
       "\t KCHS17401 & 1         &  2        & NA        & 0         & 1         & 1         & 0        \\\\\n",
       "\t KCHS17402 & 1         &  1        & NA        & 0         & 1         & 1         & 1        \\\\\n",
       "\t KORL17301 & 0         &  6        & NA        & 0         & 0         & 1         & 0        \\\\\n",
       "\\end{tabular}\n"
      ],
      "text/markdown": [
       "\n",
       "expid | success | totmembers | avg_age | o2use | nohire | season_dichotomous | solo | \n",
       "|---|---|---|---|---|---|---|---|---|---|---|---|---|---|---|---|---|---|---|---|---|---|---|---|---|---|---|---|---|---|---|---|---|---|---|---|---|---|---|---|---|---|---|---|---|---|---|---|---|---|---|---|---|---|---|---|---|---|---|---|---|\n",
       "| ANN260101 | 1         | 10        | 25.100000 | 1         | 0         | 0         | 0         | \n",
       "| ANN269301 | 1         | 10        | 25.600000 | 0         | 0         | 1         | 0         | \n",
       "| ANN273101 | 1         |  6        | 28.333333 | 0         | 0         | 0         | 0         | \n",
       "| ANN278301 | 0         |  2        | 32.500000 | 0         | 1         | 1         | 0         | \n",
       "| ANN279301 | 0         |  3        | 29.000000 | 0         | 1         | 1         | 0         | \n",
       "| ANN280101 | 0         |  6        | 29.333333 | 0         | 0         | 0         | 0         | \n",
       "| ANN280102 | 0         |  7        | 29.625000 | 0         | 0         | 0         | 0         | \n",
       "| ANN281302 | 0         | 19        | 37.736842 | 0         | 1         | 1         | 0         | \n",
       "| ANN281301 | 0         |  9        | 32.555556 | 0         | 0         | 1         | 0         | \n",
       "| ANN282301 | 0         |  5        | 31.800000 | 0         | 1         | 1         | 0         | \n",
       "| ANN283101 | 0         |  5        | 10.200000 | 0         | 0         | 0         | 0         | \n",
       "| ANN283301 | 1         |  5        | 26.333333 | 0         | 0         | 1         | 0         | \n",
       "| ANN283302 | 0         |  6        | 27.833333 | 0         | 0         | 1         | 0         | \n",
       "| ANN283401 | 0         |  4        | 26.800000 | 0         | 0         | 1         | 0         | \n",
       "| ANN284101 | 0         |  3        | 34.000000 | 0         | 1         | 0         | 0         | \n",
       "| ANN284301 | 0         |  4        | 35.000000 | 0         | 0         | 1         | 0         | \n",
       "| ANN285301 | 0         |  8        | 34.625000 | 0         | 0         | 1         | 0         | \n",
       "| ANN286102 | 0         |  7        | 30.428571 | 0         | 1         | 0         | 0         | \n",
       "| ANN286101 | 0         |  9        | 33.222222 | 0         | 1         | 0         | 0         | \n",
       "| ANN287301 | 0         |  2        | 41.500000 | 0         | 1         | 1         | 0         | \n",
       "| ANN290301 | 0         |  7        | 32.142857 | 0         | 0         | 1         | 0         | \n",
       "| ANN450201 | 0         |  6        | 37.000000 | 0         | 0         | 0         | 0         | \n",
       "| ANN452301 | 0         |  6        | 31.333333 | 0         | 0         | 1         | 0         | \n",
       "| ANN453101 | 0         |  2        | 50.000000 | 0         | 1         | 0         | 0         | \n",
       "| ANN453301 | 0         |  7        |  9.857143 | 0         | 0         | 1         | 0         | \n",
       "| ANN455101 | 1         |  4        | 26.250000 | 0         | 0         | 0         | 0         | \n",
       "| ANN457101 | 1         |  2        | 34.000000 | 0         | 0         | 0         | 0         | \n",
       "| ANN460101 | 1         |  4        | 25.000000 | 0         | 0         | 0         | 0         | \n",
       "| ANN469301 | 1         |  9        | 39.888889 | 0         | 0         | 1         | 0         | \n",
       "| ANN469302 | 1         | 10        | 25.600000 | 0         | 0         | 1         | 0         | \n",
       "| ... | ... | ... | ... | ... | ... | ... | ... | \n",
       "| LNAK15301 | 0         |  6        | NA        | 0         | 1         | 1         | 0         | \n",
       "| CHOL05401 | 0         |  2        | NA        | 0         | 1         | 1         | 0         | \n",
       "| LOBW05101 | 1         |  6        | NA        | 0         | 1         | 0         | 0         | \n",
       "| TENE05301 | 1         |  5        | NA        | 0         | 1         | 1         | 0         | \n",
       "| CHOY90103 | 0         |  9        | NA        | 0         | 0         | 0         | 0         | \n",
       "| MANA17333 | 1         |  4        | NA        | 1         | 0         | 1         | 0         | \n",
       "| CHOL11301 | 0         |  2        | NA        | 0         | 1         | 1         | 0         | \n",
       "| AMAD17352 | 0         |  2        | NA        | 0         | 1         | 1         | 0         | \n",
       "| CHOY09120 | 0         |  3        | NA        | 0         | 1         | 0         | 0         | \n",
       "| EVER17401 | 0         |  2        | NA        | 0         | 0         | 1         | 0         | \n",
       "| PUMO17401 | 1         |  2        | NA        | 0         | 0         | 1         | 0         | \n",
       "| AMAD17353 | 1         | 18        | NA        | 0         | 0         | 1         | 0         | \n",
       "| AMAD17354 | 0         |  3        | NA        | 0         | 1         | 1         | 0         | \n",
       "| AMAD17355 | 1         |  7        | NA        | 0         | 1         | 1         | 0         | \n",
       "| AMAD17356 | 1         |  7        | NA        | 0         | 0         | 1         | 0         | \n",
       "| CHUG17301 | 1         |  3        | NA        | 0         | 1         | 1         | 0         | \n",
       "| HIML17308 | 1         |  6        | NA        | 0         | 0         | 1         | 0         | \n",
       "| HIML17309 | 1         | 13        | NA        | 0         | 0         | 1         | 0         | \n",
       "| LDAK17301 | 1         | 10        | NA        | 0         | 0         | 1         | 0         | \n",
       "| AMAD17357 | 1         |  1        | NA        | 0         | 0         | 1         | 1         | \n",
       "| MANA17344 | 1         |  3        | NA        | 0         | 0         | 1         | 0         | \n",
       "| EVER17195 | 1         |  1        | NA        | 1         | 0         | 0         | 1         | \n",
       "| FUTI14101 | 1         |  4        | NA        | 0         | 1         | 0         | 0         | \n",
       "| ROLM17301 | 1         |  3        | NA        | 0         | 1         | 1         | 0         | \n",
       "| EVER13190 | 1         |  2        | NA        | 1         | 1         | 0         | 0         | \n",
       "| EVER16176 | 1         |  1        | NA        | 1         | 0         | 0         | 1         | \n",
       "| EVER16177 | 1         |  2        | NA        | 1         | 0         | 0         | 0         | \n",
       "| KCHS17401 | 1         |  2        | NA        | 0         | 1         | 1         | 0         | \n",
       "| KCHS17402 | 1         |  1        | NA        | 0         | 1         | 1         | 1         | \n",
       "| KORL17301 | 0         |  6        | NA        | 0         | 0         | 1         | 0         | \n",
       "\n",
       "\n"
      ],
      "text/plain": [
       "     expid     success totmembers avg_age   o2use nohire season_dichotomous\n",
       "1    ANN260101 1       10         25.100000 1     0      0                 \n",
       "2    ANN269301 1       10         25.600000 0     0      1                 \n",
       "3    ANN273101 1        6         28.333333 0     0      0                 \n",
       "4    ANN278301 0        2         32.500000 0     1      1                 \n",
       "5    ANN279301 0        3         29.000000 0     1      1                 \n",
       "6    ANN280101 0        6         29.333333 0     0      0                 \n",
       "7    ANN280102 0        7         29.625000 0     0      0                 \n",
       "8    ANN281302 0       19         37.736842 0     1      1                 \n",
       "9    ANN281301 0        9         32.555556 0     0      1                 \n",
       "10   ANN282301 0        5         31.800000 0     1      1                 \n",
       "11   ANN283101 0        5         10.200000 0     0      0                 \n",
       "12   ANN283301 1        5         26.333333 0     0      1                 \n",
       "13   ANN283302 0        6         27.833333 0     0      1                 \n",
       "14   ANN283401 0        4         26.800000 0     0      1                 \n",
       "15   ANN284101 0        3         34.000000 0     1      0                 \n",
       "16   ANN284301 0        4         35.000000 0     0      1                 \n",
       "17   ANN285301 0        8         34.625000 0     0      1                 \n",
       "18   ANN286102 0        7         30.428571 0     1      0                 \n",
       "19   ANN286101 0        9         33.222222 0     1      0                 \n",
       "20   ANN287301 0        2         41.500000 0     1      1                 \n",
       "21   ANN290301 0        7         32.142857 0     0      1                 \n",
       "22   ANN450201 0        6         37.000000 0     0      0                 \n",
       "23   ANN452301 0        6         31.333333 0     0      1                 \n",
       "24   ANN453101 0        2         50.000000 0     1      0                 \n",
       "25   ANN453301 0        7          9.857143 0     0      1                 \n",
       "26   ANN455101 1        4         26.250000 0     0      0                 \n",
       "27   ANN457101 1        2         34.000000 0     0      0                 \n",
       "28   ANN460101 1        4         25.000000 0     0      0                 \n",
       "29   ANN469301 1        9         39.888889 0     0      1                 \n",
       "30   ANN469302 1       10         25.600000 0     0      1                 \n",
       "...  ...       ...     ...        ...       ...   ...    ...               \n",
       "9768 LNAK15301 0        6         NA        0     1      1                 \n",
       "9769 CHOL05401 0        2         NA        0     1      1                 \n",
       "9770 LOBW05101 1        6         NA        0     1      0                 \n",
       "9771 TENE05301 1        5         NA        0     1      1                 \n",
       "9772 CHOY90103 0        9         NA        0     0      0                 \n",
       "9773 MANA17333 1        4         NA        1     0      1                 \n",
       "9774 CHOL11301 0        2         NA        0     1      1                 \n",
       "9775 AMAD17352 0        2         NA        0     1      1                 \n",
       "9776 CHOY09120 0        3         NA        0     1      0                 \n",
       "9777 EVER17401 0        2         NA        0     0      1                 \n",
       "9778 PUMO17401 1        2         NA        0     0      1                 \n",
       "9779 AMAD17353 1       18         NA        0     0      1                 \n",
       "9780 AMAD17354 0        3         NA        0     1      1                 \n",
       "9781 AMAD17355 1        7         NA        0     1      1                 \n",
       "9782 AMAD17356 1        7         NA        0     0      1                 \n",
       "9783 CHUG17301 1        3         NA        0     1      1                 \n",
       "9784 HIML17308 1        6         NA        0     0      1                 \n",
       "9785 HIML17309 1       13         NA        0     0      1                 \n",
       "9786 LDAK17301 1       10         NA        0     0      1                 \n",
       "9787 AMAD17357 1        1         NA        0     0      1                 \n",
       "9788 MANA17344 1        3         NA        0     0      1                 \n",
       "9789 EVER17195 1        1         NA        1     0      0                 \n",
       "9790 FUTI14101 1        4         NA        0     1      0                 \n",
       "9791 ROLM17301 1        3         NA        0     1      1                 \n",
       "9792 EVER13190 1        2         NA        1     1      0                 \n",
       "9793 EVER16176 1        1         NA        1     0      0                 \n",
       "9794 EVER16177 1        2         NA        1     0      0                 \n",
       "9795 KCHS17401 1        2         NA        0     1      1                 \n",
       "9796 KCHS17402 1        1         NA        0     1      1                 \n",
       "9797 KORL17301 0        6         NA        0     0      1                 \n",
       "     solo\n",
       "1    0   \n",
       "2    0   \n",
       "3    0   \n",
       "4    0   \n",
       "5    0   \n",
       "6    0   \n",
       "7    0   \n",
       "8    0   \n",
       "9    0   \n",
       "10   0   \n",
       "11   0   \n",
       "12   0   \n",
       "13   0   \n",
       "14   0   \n",
       "15   0   \n",
       "16   0   \n",
       "17   0   \n",
       "18   0   \n",
       "19   0   \n",
       "20   0   \n",
       "21   0   \n",
       "22   0   \n",
       "23   0   \n",
       "24   0   \n",
       "25   0   \n",
       "26   0   \n",
       "27   0   \n",
       "28   0   \n",
       "29   0   \n",
       "30   0   \n",
       "...  ... \n",
       "9768 0   \n",
       "9769 0   \n",
       "9770 0   \n",
       "9771 0   \n",
       "9772 0   \n",
       "9773 0   \n",
       "9774 0   \n",
       "9775 0   \n",
       "9776 0   \n",
       "9777 0   \n",
       "9778 0   \n",
       "9779 0   \n",
       "9780 0   \n",
       "9781 0   \n",
       "9782 0   \n",
       "9783 0   \n",
       "9784 0   \n",
       "9785 0   \n",
       "9786 0   \n",
       "9787 1   \n",
       "9788 0   \n",
       "9789 1   \n",
       "9790 0   \n",
       "9791 0   \n",
       "9792 0   \n",
       "9793 1   \n",
       "9794 0   \n",
       "9795 0   \n",
       "9796 1   \n",
       "9797 0   "
      ]
     },
     "metadata": {},
     "output_type": "display_data"
    }
   ],
   "source": [
    "joined_dataset = left_join(subset_expeditions, subset_members, by=\"expid\")\n",
    "head(joined_dataset)\n",
    "final_dataset <- joined_dataset %>% mutate(o2use = as.numeric(o2used), nohire = as.numeric(nohired)) %>% mutate(season_dichotomous = case_when\n",
    "                                           (season == 1  | season == 2 ~ 0, season == 3 | season == 4 ~ 1, TRUE ~ NA_real_)) %>% mutate(solo = case_when(totmembers == 0 | totmembers == 1 ~ 1, totmembers > 1 ~ 0, TRUE ~ NA_real_))\n",
    "head(final_dataset)\n",
    "final_dataset %>% select (-c(o2used, nohired, season, total))"
   ]
  },
  {
   "cell_type": "markdown",
   "metadata": {},
   "source": [
    "# Step 3 - Checking for missing values\n",
    "#### Looking how many non available cells are there for each column/variable\n",
    "#### Looking at how many unique values are left after previous steps\n",
    "#### Creating a table for visual understanding of missing values"
   ]
  },
  {
   "cell_type": "code",
   "execution_count": 6,
   "metadata": {},
   "outputs": [
    {
     "name": "stderr",
     "output_type": "stream",
     "text": [
      "Loading required package: Rcpp\n",
      "## \n",
      "## Amelia II: Multiple Imputation\n",
      "## (Version 1.7.5, built: 2018-05-07)\n",
      "## Copyright (C) 2005-2018 James Honaker, Gary King and Matthew Blackwell\n",
      "## Refer to http://gking.harvard.edu/amelia/ for more information\n",
      "## \n"
     ]
    },
    {
     "data": {
      "text/html": [
       "<dl class=dl-horizontal>\n",
       "\t<dt>expid</dt>\n",
       "\t\t<dd>0</dd>\n",
       "\t<dt>success</dt>\n",
       "\t\t<dd>0</dd>\n",
       "\t<dt>season</dt>\n",
       "\t\t<dd>0</dd>\n",
       "\t<dt>o2used</dt>\n",
       "\t\t<dd>0</dd>\n",
       "\t<dt>nohired</dt>\n",
       "\t\t<dd>0</dd>\n",
       "\t<dt>totmembers</dt>\n",
       "\t\t<dd>0</dd>\n",
       "\t<dt>avg_age</dt>\n",
       "\t\t<dd>767</dd>\n",
       "\t<dt>total</dt>\n",
       "\t\t<dd>767</dd>\n",
       "\t<dt>o2use</dt>\n",
       "\t\t<dd>0</dd>\n",
       "\t<dt>nohire</dt>\n",
       "\t\t<dd>0</dd>\n",
       "\t<dt>season_dichotomous</dt>\n",
       "\t\t<dd>2</dd>\n",
       "\t<dt>solo</dt>\n",
       "\t\t<dd>0</dd>\n",
       "</dl>\n"
      ],
      "text/latex": [
       "\\begin{description*}\n",
       "\\item[expid] 0\n",
       "\\item[success] 0\n",
       "\\item[season] 0\n",
       "\\item[o2used] 0\n",
       "\\item[nohired] 0\n",
       "\\item[totmembers] 0\n",
       "\\item[avg\\textbackslash{}\\_age] 767\n",
       "\\item[total] 767\n",
       "\\item[o2use] 0\n",
       "\\item[nohire] 0\n",
       "\\item[season\\textbackslash{}\\_dichotomous] 2\n",
       "\\item[solo] 0\n",
       "\\end{description*}\n"
      ],
      "text/markdown": [
       "expid\n",
       ":   0success\n",
       ":   0season\n",
       ":   0o2used\n",
       ":   0nohired\n",
       ":   0totmembers\n",
       ":   0avg_age\n",
       ":   767total\n",
       ":   767o2use\n",
       ":   0nohire\n",
       ":   0season_dichotomous\n",
       ":   2solo\n",
       ":   0\n",
       "\n"
      ],
      "text/plain": [
       "             expid            success             season             o2used \n",
       "                 0                  0                  0                  0 \n",
       "           nohired         totmembers            avg_age              total \n",
       "                 0                  0                767                767 \n",
       "             o2use             nohire season_dichotomous               solo \n",
       "                 0                  0                  2                  0 "
      ]
     },
     "metadata": {},
     "output_type": "display_data"
    },
    {
     "data": {
      "text/html": [
       "<dl class=dl-horizontal>\n",
       "\t<dt>expid</dt>\n",
       "\t\t<dd>9796</dd>\n",
       "\t<dt>success</dt>\n",
       "\t\t<dd>2</dd>\n",
       "\t<dt>season</dt>\n",
       "\t\t<dd>5</dd>\n",
       "\t<dt>o2used</dt>\n",
       "\t\t<dd>2</dd>\n",
       "\t<dt>nohired</dt>\n",
       "\t\t<dd>2</dd>\n",
       "\t<dt>totmembers</dt>\n",
       "\t\t<dd>52</dd>\n",
       "\t<dt>avg_age</dt>\n",
       "\t\t<dd>1742</dd>\n",
       "\t<dt>total</dt>\n",
       "\t\t<dd>51</dd>\n",
       "\t<dt>o2use</dt>\n",
       "\t\t<dd>2</dd>\n",
       "\t<dt>nohire</dt>\n",
       "\t\t<dd>2</dd>\n",
       "\t<dt>season_dichotomous</dt>\n",
       "\t\t<dd>3</dd>\n",
       "\t<dt>solo</dt>\n",
       "\t\t<dd>2</dd>\n",
       "</dl>\n"
      ],
      "text/latex": [
       "\\begin{description*}\n",
       "\\item[expid] 9796\n",
       "\\item[success] 2\n",
       "\\item[season] 5\n",
       "\\item[o2used] 2\n",
       "\\item[nohired] 2\n",
       "\\item[totmembers] 52\n",
       "\\item[avg\\textbackslash{}\\_age] 1742\n",
       "\\item[total] 51\n",
       "\\item[o2use] 2\n",
       "\\item[nohire] 2\n",
       "\\item[season\\textbackslash{}\\_dichotomous] 3\n",
       "\\item[solo] 2\n",
       "\\end{description*}\n"
      ],
      "text/markdown": [
       "expid\n",
       ":   9796success\n",
       ":   2season\n",
       ":   5o2used\n",
       ":   2nohired\n",
       ":   2totmembers\n",
       ":   52avg_age\n",
       ":   1742total\n",
       ":   51o2use\n",
       ":   2nohire\n",
       ":   2season_dichotomous\n",
       ":   3solo\n",
       ":   2\n",
       "\n"
      ],
      "text/plain": [
       "             expid            success             season             o2used \n",
       "              9796                  2                  5                  2 \n",
       "           nohired         totmembers            avg_age              total \n",
       "                 2                 52               1742                 51 \n",
       "             o2use             nohire season_dichotomous               solo \n",
       "                 2                  2                  3                  2 "
      ]
     },
     "metadata": {},
     "output_type": "display_data"
    },
    {
     "data": {
      "image/png": "[encoded data removed]",
      "text/plain": [
       "Plot with title \"Missing values vs observed\""
      ]
     },
     "metadata": {},
     "output_type": "display_data"
    }
   ],
   "source": [
    "library(Amelia)\n",
    "sapply(final_dataset,function(x) sum(is.na(x)))\n",
    "sapply(final_dataset, function(x) length(unique(x)))\n",
    "missmap(final_dataset, main=\"Missing values vs observed\")"
   ]
  },
  {
   "cell_type": "markdown",
   "metadata": {},
   "source": [
    "# Step 4 - Replacing missing avg_age values by the overall average_age\n",
    "#### From the analysis in the previous cell, we found out that we are missing some avg_age data for a few expeditions. In this step, we are replacing those missing values by the total average age."
   ]
  },
  {
   "cell_type": "code",
   "execution_count": 7,
   "metadata": {},
   "outputs": [
    {
     "data": {
      "image/png": "[encoded data removed]",
      "text/plain": [
       "Plot with title \"Missing values vs observed\""
      ]
     },
     "metadata": {},
     "output_type": "display_data"
    }
   ],
   "source": [
    "final_dataset$avg_age[is.na(final_dataset$avg_age)] <- mean(final_dataset$avg_age,na.rm=T)\n",
    "missmap(final_dataset, main=\"Missing values vs observed\")"
   ]
  },
  {
   "cell_type": "markdown",
   "metadata": {},
   "source": [
    "# Step 5- Logit setup and first regression run\n",
    "#### Setting up pseudo-random number generator to ensure reproducible results\n",
    "#### Randomly shuffling our final dataset before dividing it into train and test part\n",
    "#### Separating our final_dataset into train(60%) and test(40%) datasets\n",
    "#### Running logistic regression with success as dependent variable and solo, nohire, totmembers, o2use, avg_age and season_dichotomous as independent variables)"
   ]
  },
  {
   "cell_type": "code",
   "execution_count": 19,
   "metadata": {},
   "outputs": [
    {
     "data": {
      "text/plain": [
       "\n",
       "Call:\n",
       "glm(formula = success ~ solo + nohire + totmembers + o2use + \n",
       "    avg_age + season_dichotomous, family = binomial, data = train.shuffled)\n",
       "\n",
       "Deviance Residuals: \n",
       "    Min       1Q   Median       3Q      Max  \n",
       "-2.3179  -1.1019   0.6175   1.1857   1.6091  \n",
       "\n",
       "Coefficients:\n",
       "                    Estimate Std. Error z value Pr(>|z|)    \n",
       "(Intercept)        -0.244882   0.123482  -1.983   0.0474 *  \n",
       "solo               -0.335794   0.077196  -4.350 1.36e-05 ***\n",
       "nohire              0.004844   0.054527   0.089   0.9292    \n",
       "totmembers          0.023174   0.005601   4.137 3.52e-05 ***\n",
       "o2use               1.564922   0.067870  23.058  < 2e-16 ***\n",
       "avg_age            -0.006804   0.002705  -2.515   0.0119 *  \n",
       "season_dichotomous  0.299473   0.052315   5.724 1.04e-08 ***\n",
       "---\n",
       "Signif. codes:  0 '***' 0.001 '**' 0.01 '*' 0.05 '.' 0.1 ' ' 1\n",
       "\n",
       "(Dispersion parameter for binomial family taken to be 1)\n",
       "\n",
       "    Null deviance: 10156.4  on 7345  degrees of freedom\n",
       "Residual deviance:  9376.2  on 7339  degrees of freedom\n",
       "  (2 observations deleted due to missingness)\n",
       "AIC: 9390.2\n",
       "\n",
       "Number of Fisher Scoring iterations: 4\n"
      ]
     },
     "metadata": {},
     "output_type": "display_data"
    }
   ],
   "source": [
    "set.seed(42)\n",
    "n=nrow(final_dataset)\n",
    "shuffled=final_dataset[sample(n),]\n",
    "train.indices=1:round(0.75*n)\n",
    "train.shuffled=shuffled[train.indices,]\n",
    "test.indices=(round(0.75*n)+1):n\n",
    "test.shuffled=shuffled[test.indices,]\n",
    "glm.fit=glm(success~solo+nohire+totmembers+o2use+avg_age+season_dichotomous, family=binomial, data=train.shuffled)\n",
    "summary(glm.fit)"
   ]
  },
  {
   "cell_type": "markdown",
   "metadata": {},
   "source": [
    "## First regression run interpretation and next steps\n",
    "The p-value of solo variable is close to zero, suggesting that this variable is indeed significant for success of the expedition. The estimated coefficient is negative, which means that going solo decreases odds of success.\n",
    "\n",
    "The p-value of no hired personnal (Yes or no) is very high, suggesting that the variable is not statistically significant. In the next round, we will drop this variable.\n",
    "\n",
    "The p-value for total members in expedition is very close to zero, making it significant determinor of expedition success.\n",
    "The coefficient is positive but weak, suggesting that the more members the expedition has, the more likely it is to succeed.\n",
    "\n",
    "The p-value for oxygen use is very low, again suggesting a high degree relevance for success of expedition. The coefficient is positive and very strong, making oxygen usage an important determiner of expedition succes. (If the expedition uses oxygen, it is more likely to succeed).\n",
    "\n",
    "The p-value for average age is low, pointing at the significance of the age on success but the coefficient is negative and low. This can be interpreted as: The higher the average age of the expedition, the lower the chance of success. \n",
    "\n",
    "The p-value of season is also close to zero, which showcases a high relevance for success. And the coefficient is positive, which means that the likelihood to succeed in season 1 (Fall/Winter) is higher than in season 0 (Spring/Summer). This might seem counterintuitive in the first glance, but makes sense when we consider that summer is a prime season for monsoons, which bring heavy rainfall and mist, making the climb more dangerous."
   ]
  },
  {
   "cell_type": "markdown",
   "metadata": {},
   "source": [
    "# Step 6 - Revision and the second regression run\n",
    "For the second run, we are excluding nohire (Whether an expedition hired a personal or not) as its p-value is clearly above 0.05. We will include the interaction term between all the other variables"
   ]
  },
  {
   "cell_type": "code",
   "execution_count": 34,
   "metadata": {
    "scrolled": true
   },
   "outputs": [
    {
     "data": {
      "text/plain": [
       "\n",
       "Call:\n",
       "glm(formula = success ~ solo * totmembers * o2use * avg_age * \n",
       "    season_dichotomous, family = binomial(link = \"logit\"), data = train.shuffled)\n",
       "\n",
       "Deviance Residuals: \n",
       "    Min       1Q   Median       3Q      Max  \n",
       "-2.2298  -1.1190   0.5831   1.1626   2.0084  \n",
       "\n",
       "Coefficients: (3 not defined because of singularities)\n",
       "                                                   Estimate Std. Error z value\n",
       "(Intercept)                                        0.196114   0.305370   0.642\n",
       "solo                                              -1.805553   1.137212  -1.588\n",
       "totmembers                                         0.045675   0.033246   1.374\n",
       "o2use                                              0.850336   0.686020   1.240\n",
       "avg_age                                           -0.020893   0.008127  -2.571\n",
       "season_dichotomous                                -0.194307   0.387004  -0.502\n",
       "solo:totmembers                                    1.647393   1.173967   1.403\n",
       "solo:o2use                                        24.380772 362.020488   0.067\n",
       "totmembers:o2use                                  -0.153455   0.061520  -2.494\n",
       "solo:avg_age                                      -0.299878   4.660292  -0.064\n",
       "totmembers:avg_age                                -0.000471   0.000940  -0.501\n",
       "o2use:avg_age                                      0.022562   0.017809   1.267\n",
       "solo:season_dichotomous                           -3.750481   4.545691  -0.825\n",
       "totmembers:season_dichotomous                     -0.046093   0.043762  -1.053\n",
       "o2use:season_dichotomous                          -0.982589   1.159966  -0.847\n",
       "avg_age:season_dichotomous                         0.014697   0.010345   1.421\n",
       "solo:totmembers:o2use                            -23.023562 362.019546  -0.064\n",
       "solo:totmembers:avg_age                            0.289668   4.660296   0.062\n",
       "solo:o2use:avg_age                                -0.023799   0.023179  -1.027\n",
       "totmembers:o2use:avg_age                           0.004421   0.001752   2.523\n",
       "solo:totmembers:season_dichotomous                 5.070676   4.568727   1.110\n",
       "solo:o2use:season_dichotomous                     -1.027488   1.835926  -0.560\n",
       "totmembers:o2use:season_dichotomous                0.054426   0.105456   0.516\n",
       "solo:avg_age:season_dichotomous                    0.406398   4.661728   0.087\n",
       "totmembers:avg_age:season_dichotomous              0.001487   0.001233   1.206\n",
       "o2use:avg_age:season_dichotomous                   0.011568   0.030558   0.379\n",
       "solo:totmembers:o2use:avg_age                            NA         NA      NA\n",
       "solo:totmembers:o2use:season_dichotomous                 NA         NA      NA\n",
       "solo:totmembers:avg_age:season_dichotomous        -0.429882   4.661740  -0.092\n",
       "solo:o2use:avg_age:season_dichotomous              0.035860   0.044208   0.811\n",
       "totmembers:o2use:avg_age:season_dichotomous       -0.002527   0.002983  -0.847\n",
       "solo:totmembers:o2use:avg_age:season_dichotomous         NA         NA      NA\n",
       "                                                 Pr(>|z|)  \n",
       "(Intercept)                                        0.5207  \n",
       "solo                                               0.1124  \n",
       "totmembers                                         0.1695  \n",
       "o2use                                              0.2152  \n",
       "avg_age                                            0.0101 *\n",
       "season_dichotomous                                 0.6156  \n",
       "solo:totmembers                                    0.1605  \n",
       "solo:o2use                                         0.9463  \n",
       "totmembers:o2use                                   0.0126 *\n",
       "solo:avg_age                                       0.9487  \n",
       "totmembers:avg_age                                 0.6163  \n",
       "o2use:avg_age                                      0.2052  \n",
       "solo:season_dichotomous                            0.4093  \n",
       "totmembers:season_dichotomous                      0.2922  \n",
       "o2use:season_dichotomous                           0.3969  \n",
       "avg_age:season_dichotomous                         0.1554  \n",
       "solo:totmembers:o2use                              0.9493  \n",
       "solo:totmembers:avg_age                            0.9504  \n",
       "solo:o2use:avg_age                                 0.3045  \n",
       "totmembers:o2use:avg_age                           0.0116 *\n",
       "solo:totmembers:season_dichotomous                 0.2671  \n",
       "solo:o2use:season_dichotomous                      0.5757  \n",
       "totmembers:o2use:season_dichotomous                0.6058  \n",
       "solo:avg_age:season_dichotomous                    0.9305  \n",
       "totmembers:avg_age:season_dichotomous              0.2277  \n",
       "o2use:avg_age:season_dichotomous                   0.7050  \n",
       "solo:totmembers:o2use:avg_age                          NA  \n",
       "solo:totmembers:o2use:season_dichotomous               NA  \n",
       "solo:totmembers:avg_age:season_dichotomous         0.9265  \n",
       "solo:o2use:avg_age:season_dichotomous              0.4173  \n",
       "totmembers:o2use:avg_age:season_dichotomous        0.3969  \n",
       "solo:totmembers:o2use:avg_age:season_dichotomous       NA  \n",
       "---\n",
       "Signif. codes:  0 '***' 0.001 '**' 0.01 '*' 0.05 '.' 0.1 ' ' 1\n",
       "\n",
       "(Dispersion parameter for binomial family taken to be 1)\n",
       "\n",
       "    Null deviance: 10156.4  on 7345  degrees of freedom\n",
       "Residual deviance:  9223.5  on 7317  degrees of freedom\n",
       "  (2 observations deleted due to missingness)\n",
       "AIC: 9281.5\n",
       "\n",
       "Number of Fisher Scoring iterations: 11\n"
      ]
     },
     "metadata": {},
     "output_type": "display_data"
    }
   ],
   "source": [
    "glm.fit=glm(success~solo*totmembers*o2use*avg_age*season_dichotomous,family=binomial(link=\"logit\"),data=train.shuffled)\n",
    "summary(glm.fit)"
   ]
  },
  {
   "cell_type": "markdown",
   "metadata": {},
   "source": [
    "## Second regression run interpretation and next steps\n",
    "It seems that the p-value of the interaction effect is close to zero only in two cases:\n",
    "\n",
    "1- Between tot_members and o2use\n",
    "\n",
    "2- Between tot_members, o2use and average age\n",
    "\n",
    "All the others are either insignificant or not defined because of singularities\n",
    "\n",
    "We will include those interaction terms into the model"
   ]
  },
  {
   "cell_type": "markdown",
   "metadata": {},
   "source": [
    "# Step 7 - Evaluating prediction accuracy on our test data set\n",
    "Now, we create a vector of class predictions based on whether the predicted probability of a success is greater than or less than 0.5 and compare the results to the actual values from the training set"
   ]
  },
  {
   "cell_type": "code",
   "execution_count": 33,
   "metadata": {},
   "outputs": [
    {
     "data": {
      "text/html": [
       "<ol class=list-inline>\n",
       "\t<li>2449</li>\n",
       "\t<li>12</li>\n",
       "</ol>\n"
      ],
      "text/latex": [
       "\\begin{enumerate*}\n",
       "\\item 2449\n",
       "\\item 12\n",
       "\\end{enumerate*}\n"
      ],
      "text/markdown": [
       "1. 2449\n",
       "2. 12\n",
       "\n",
       "\n"
      ],
      "text/plain": [
       "[1] 2449   12"
      ]
     },
     "metadata": {},
     "output_type": "display_data"
    },
    {
     "data": {
      "text/html": [
       "<table>\n",
       "<thead><tr><th></th><th scope=col>expid</th><th scope=col>success</th><th scope=col>season</th><th scope=col>o2used</th><th scope=col>nohired</th><th scope=col>totmembers</th><th scope=col>avg_age</th><th scope=col>total</th><th scope=col>o2use</th><th scope=col>nohire</th><th scope=col>season_dichotomous</th><th scope=col>solo</th></tr></thead>\n",
       "<tbody>\n",
       "\t<tr><th scope=row>9357</th><td>MANA16315</td><td>1        </td><td>3        </td><td>FALSE    </td><td> TRUE    </td><td>2        </td><td>37.57519 </td><td>NA       </td><td>0        </td><td>1        </td><td>1        </td><td>0        </td></tr>\n",
       "\t<tr><th scope=row>6475</th><td>EVER09177</td><td>0        </td><td>1        </td><td> TRUE    </td><td>FALSE    </td><td>1        </td><td>59.00000 </td><td> 1       </td><td>1        </td><td>0        </td><td>0        </td><td>1        </td></tr>\n",
       "\t<tr><th scope=row>9639</th><td>MANA17325</td><td>1        </td><td>3        </td><td> TRUE    </td><td>FALSE    </td><td>1        </td><td>37.57519 </td><td>NA       </td><td>1        </td><td>0        </td><td>1        </td><td>1        </td></tr>\n",
       "\t<tr><th scope=row>1822</th><td>NILS81301</td><td>0        </td><td>3        </td><td>FALSE    </td><td> TRUE    </td><td>3        </td><td>27.00000 </td><td> 3       </td><td>0        </td><td>1        </td><td>1        </td><td>0        </td></tr>\n",
       "\t<tr><th scope=row>7602</th><td>EVER12161</td><td>1        </td><td>1        </td><td> TRUE    </td><td>FALSE    </td><td>6        </td><td>39.33333 </td><td> 6       </td><td>1        </td><td>0        </td><td>0        </td><td>0        </td></tr>\n",
       "\t<tr><th scope=row>1488</th><td>EVER94110</td><td>0        </td><td>1        </td><td> TRUE    </td><td>FALSE    </td><td>6        </td><td>37.66667 </td><td> 6       </td><td>1        </td><td>0        </td><td>0        </td><td>0        </td></tr>\n",
       "</tbody>\n",
       "</table>\n"
      ],
      "text/latex": [
       "\\begin{tabular}{r|llllllllllll}\n",
       "  & expid & success & season & o2used & nohired & totmembers & avg\\_age & total & o2use & nohire & season\\_dichotomous & solo\\\\\n",
       "\\hline\n",
       "\t9357 & MANA16315 & 1         & 3         & FALSE     &  TRUE     & 2         & 37.57519  & NA        & 0         & 1         & 1         & 0        \\\\\n",
       "\t6475 & EVER09177 & 0         & 1         &  TRUE     & FALSE     & 1         & 59.00000  &  1        & 1         & 0         & 0         & 1        \\\\\n",
       "\t9639 & MANA17325 & 1         & 3         &  TRUE     & FALSE     & 1         & 37.57519  & NA        & 1         & 0         & 1         & 1        \\\\\n",
       "\t1822 & NILS81301 & 0         & 3         & FALSE     &  TRUE     & 3         & 27.00000  &  3        & 0         & 1         & 1         & 0        \\\\\n",
       "\t7602 & EVER12161 & 1         & 1         &  TRUE     & FALSE     & 6         & 39.33333  &  6        & 1         & 0         & 0         & 0        \\\\\n",
       "\t1488 & EVER94110 & 0         & 1         &  TRUE     & FALSE     & 6         & 37.66667  &  6        & 1         & 0         & 0         & 0        \\\\\n",
       "\\end{tabular}\n"
      ],
      "text/markdown": [
       "\n",
       "| <!--/--> | expid | success | season | o2used | nohired | totmembers | avg_age | total | o2use | nohire | season_dichotomous | solo | \n",
       "|---|---|---|---|---|---|\n",
       "| 9357 | MANA16315 | 1         | 3         | FALSE     |  TRUE     | 2         | 37.57519  | NA        | 0         | 1         | 1         | 0         | \n",
       "| 6475 | EVER09177 | 0         | 1         |  TRUE     | FALSE     | 1         | 59.00000  |  1        | 1         | 0         | 0         | 1         | \n",
       "| 9639 | MANA17325 | 1         | 3         |  TRUE     | FALSE     | 1         | 37.57519  | NA        | 1         | 0         | 1         | 1         | \n",
       "| 1822 | NILS81301 | 0         | 3         | FALSE     |  TRUE     | 3         | 27.00000  |  3        | 0         | 1         | 1         | 0         | \n",
       "| 7602 | EVER12161 | 1         | 1         |  TRUE     | FALSE     | 6         | 39.33333  |  6        | 1         | 0         | 0         | 0         | \n",
       "| 1488 | EVER94110 | 0         | 1         |  TRUE     | FALSE     | 6         | 37.66667  |  6        | 1         | 0         | 0         | 0         | \n",
       "\n",
       "\n"
      ],
      "text/plain": [
       "     expid     success season o2used nohired totmembers avg_age  total o2use\n",
       "9357 MANA16315 1       3      FALSE   TRUE   2          37.57519 NA    0    \n",
       "6475 EVER09177 0       1       TRUE  FALSE   1          59.00000  1    1    \n",
       "9639 MANA17325 1       3       TRUE  FALSE   1          37.57519 NA    1    \n",
       "1822 NILS81301 0       3      FALSE   TRUE   3          27.00000  3    0    \n",
       "7602 EVER12161 1       1       TRUE  FALSE   6          39.33333  6    1    \n",
       "1488 EVER94110 0       1       TRUE  FALSE   6          37.66667  6    1    \n",
       "     nohire season_dichotomous solo\n",
       "9357 1      1                  0   \n",
       "6475 0      0                  1   \n",
       "9639 0      1                  1   \n",
       "1822 1      1                  0   \n",
       "7602 0      0                  0   \n",
       "1488 0      0                  0   "
      ]
     },
     "metadata": {},
     "output_type": "display_data"
    },
    {
     "data": {
      "text/html": [
       "<ol class=list-inline>\n",
       "\t<li>'expid'</li>\n",
       "\t<li>'success'</li>\n",
       "\t<li>'season'</li>\n",
       "\t<li>'o2used'</li>\n",
       "\t<li>'nohired'</li>\n",
       "\t<li>'totmembers'</li>\n",
       "\t<li>'avg_age'</li>\n",
       "\t<li>'total'</li>\n",
       "\t<li>'o2use'</li>\n",
       "\t<li>'nohire'</li>\n",
       "\t<li>'season_dichotomous'</li>\n",
       "\t<li>'solo'</li>\n",
       "</ol>\n"
      ],
      "text/latex": [
       "\\begin{enumerate*}\n",
       "\\item 'expid'\n",
       "\\item 'success'\n",
       "\\item 'season'\n",
       "\\item 'o2used'\n",
       "\\item 'nohired'\n",
       "\\item 'totmembers'\n",
       "\\item 'avg\\_age'\n",
       "\\item 'total'\n",
       "\\item 'o2use'\n",
       "\\item 'nohire'\n",
       "\\item 'season\\_dichotomous'\n",
       "\\item 'solo'\n",
       "\\end{enumerate*}\n"
      ],
      "text/markdown": [
       "1. 'expid'\n",
       "2. 'success'\n",
       "3. 'season'\n",
       "4. 'o2used'\n",
       "5. 'nohired'\n",
       "6. 'totmembers'\n",
       "7. 'avg_age'\n",
       "8. 'total'\n",
       "9. 'o2use'\n",
       "10. 'nohire'\n",
       "11. 'season_dichotomous'\n",
       "12. 'solo'\n",
       "\n",
       "\n"
      ],
      "text/plain": [
       " [1] \"expid\"              \"success\"            \"season\"            \n",
       " [4] \"o2used\"             \"nohired\"            \"totmembers\"        \n",
       " [7] \"avg_age\"            \"total\"              \"o2use\"             \n",
       "[10] \"nohire\"             \"season_dichotomous\" \"solo\"              "
      ]
     },
     "metadata": {},
     "output_type": "display_data"
    },
    {
     "data": {
      "text/plain": [
       "\n",
       "Call:\n",
       "glm(formula = success ~ totmembers * o2use * avg_age + solo + \n",
       "    season_dichotomous, family = binomial(link = \"logit\"), data = train.shuffled)\n",
       "\n",
       "Deviance Residuals: \n",
       "    Min       1Q   Median       3Q      Max  \n",
       "-2.2180  -1.0883   0.6061   1.1703   2.0983  \n",
       "\n",
       "Coefficients:\n",
       "                           Estimate Std. Error z value Pr(>|z|)    \n",
       "(Intercept)              -0.0350695  0.1529015  -0.229 0.818589    \n",
       "totmembers                0.0154490  0.0184286   0.838 0.401853    \n",
       "o2use                     1.3229511  0.3677122   3.598 0.000321 ***\n",
       "avg_age                  -0.0147975  0.0039007  -3.794 0.000149 ***\n",
       "solo                     -0.2878455  0.0786624  -3.659 0.000253 ***\n",
       "season_dichotomous        0.2988989  0.0525262   5.690 1.27e-08 ***\n",
       "totmembers:o2use         -0.1545111  0.0397607  -3.886 0.000102 ***\n",
       "totmembers:avg_age        0.0006260  0.0005213   1.201 0.229801    \n",
       "o2use:avg_age             0.0096821  0.0092591   1.046 0.295704    \n",
       "totmembers:o2use:avg_age  0.0036128  0.0011316   3.193 0.001410 ** \n",
       "---\n",
       "Signif. codes:  0 '***' 0.001 '**' 0.01 '*' 0.05 '.' 0.1 ' ' 1\n",
       "\n",
       "(Dispersion parameter for binomial family taken to be 1)\n",
       "\n",
       "    Null deviance: 10156  on 7345  degrees of freedom\n",
       "Residual deviance:  9326  on 7336  degrees of freedom\n",
       "  (2 observations deleted due to missingness)\n",
       "AIC: 9346\n",
       "\n",
       "Number of Fisher Scoring iterations: 4\n"
      ]
     },
     "metadata": {},
     "output_type": "display_data"
    }
   ],
   "source": [
    "dim(test.shuffled)\n",
    "head(test.shuffled)\n",
    "names(test.shuffled)\n",
    "glm.fit=glm(success~totmembers*o2use*avg_age+solo+season_dichotomous,family=binomial(link=\"logit\"),data=train.shuffled)\n",
    "summary(glm.fit)"
   ]
  },
  {
   "cell_type": "code",
   "execution_count": 37,
   "metadata": {
    "scrolled": false
   },
   "outputs": [
    {
     "name": "stderr",
     "output_type": "stream",
     "text": [
      "Warning message in predict.lm(object, newdata, se.fit, scale = 1, type = ifelse(type == :\n",
      "\"prediction from a rank-deficient fit may be misleading\""
     ]
    },
    {
     "data": {
      "text/plain": [
       "        \n",
       "glm.pred    0    1\n",
       "       0 2424 1743\n",
       "       1 1027 2154"
      ]
     },
     "metadata": {},
     "output_type": "display_data"
    }
   ],
   "source": [
    "glm.probs=predict(glm.fit,train.shuffled,type=\"response\")\n",
    "glm.pred=rep(\"0\", 7348)\n",
    "glm.pred[glm.probs>0.5]=\"1\"\n",
    "table(glm.pred,train.shuffled$success)"
   ]
  },
  {
   "cell_type": "code",
   "execution_count": 39,
   "metadata": {},
   "outputs": [
    {
     "data": {
      "text/html": [
       "0.623026673924878"
      ],
      "text/latex": [
       "0.623026673924878"
      ],
      "text/markdown": [
       "0.623026673924878"
      ],
      "text/plain": [
       "[1] 0.6230267"
      ]
     },
     "metadata": {},
     "output_type": "display_data"
    }
   ],
   "source": [
    "(2424+2154)/7348"
   ]
  },
  {
   "cell_type": "markdown",
   "metadata": {},
   "source": [
    "### The results show, that the model makes a correct accident estimate in 62.3% of the cases. Now, we test it on the test data set."
   ]
  },
  {
   "cell_type": "code",
   "execution_count": 38,
   "metadata": {},
   "outputs": [
    {
     "name": "stderr",
     "output_type": "stream",
     "text": [
      "Warning message in predict.lm(object, newdata, se.fit, scale = 1, type = ifelse(type == :\n",
      "\"prediction from a rank-deficient fit may be misleading\""
     ]
    },
    {
     "data": {
      "text/plain": [
       "        \n",
       "glm.pred   0   1\n",
       "       0 813 575\n",
       "       1 352 709"
      ]
     },
     "metadata": {},
     "output_type": "display_data"
    }
   ],
   "source": [
    "glm.probs=predict(glm.fit,test.shuffled,type=\"response\")\n",
    "glm.pred=rep(\"0\",2449)\n",
    "glm.pred[glm.probs>0.5]=\"1\"\n",
    "table(glm.pred,test.shuffled$success)"
   ]
  },
  {
   "cell_type": "code",
   "execution_count": 40,
   "metadata": {},
   "outputs": [
    {
     "data": {
      "text/html": [
       "0.621478154348714"
      ],
      "text/latex": [
       "0.621478154348714"
      ],
      "text/markdown": [
       "0.621478154348714"
      ],
      "text/plain": [
       "[1] 0.6214782"
      ]
     },
     "metadata": {},
     "output_type": "display_data"
    }
   ],
   "source": [
    "(813+709)/2449"
   ]
  },
  {
   "cell_type": "markdown",
   "metadata": {},
   "source": [
    "### On the test set, that has not been used for fitting, the model shows 62.14% accuracy."
   ]
  },
  {
   "cell_type": "markdown",
   "metadata": {},
   "source": [
    "# Step 8 - Key Takeaways and Recommendations\n",
    "#### First key takeaway would be to avoid going solo. However, that suggestion would assume that it is not a deliberate choice of the climbers. Going solo is logically more dangerous but one would presume that climbers who undertake the climb solo are aware of the implications and do it for a challenge by choice.\n",
    "#### Second implication is to use oxygen as it increases odds of success. However, as in the first recommendation many climbers are already aware of the risks associated with not using the oxygen (dehydration, fatigue, impaired judgement, mountain sickness and risk of death) and take the risk for a challenge voluntarily.\n",
    "#### Third implication of this analysis is to choose winter/fall season over spring/summer season. We hypothesize that the likelihood of success is higher in winter/fall primarily because of monsoon season that makes transionary months(May, June) between spring and summer conditions more unpredictable than fall/winter months where there is a clearer transition between fall and winter. The season can also be highly relevant for a specific route. Meaning that some routes can offer more or less suitable climbing conditions during specific seasons. However, further qualitative and quantitative research into why fall might be better than spring for climbing would be beneficial.\n",
    "#### Lastly, average age of the expedition also plays a role in a success of the climb. When \"younger\" expeditions have higher chance of succeeding. However, the coefficient is fairly low so there is a limited benefit to that, which makes sense because there is a tradeoff between experience and \"youth\"(vitality, physical condition, etc.). "
   ]
  },
  {
   "cell_type": "markdown",
   "metadata": {},
   "source": [
    "## Estimate of impact\n",
    "\n",
    "The impact of our findings is not very high, since our recommendations for avoiding solo climbs and use of oxygen are common knowledge and climbers who take those risks are acutely aware od the dangers associated with them.\n",
    "\n",
    "Third implication is a little bit counterintuitive for a layman, but probably more of a common knowledge for any climber who attempts to climb the Everest as he or she needs to understand the weather conditions very acutely.\n",
    "\n",
    "Last implication more or less serves as a proof for our intution and logic that would tell us that the younger climbers have higher chance of succes because they are more likely better off physically than older climbers. "
   ]
  },
  {
   "cell_type": "markdown",
   "metadata": {},
   "source": [
    "## Limitations and Weaknesses of our analysis\n",
    "We replaced the missing avg_age values (Roughly 1% of our data) by a total avg_age. That could have some impact on the accuracy of the model\n",
    "We shuffled the dataset because initially, it was ordered by expid so just to be on the save side we shuffled it to ensure a random distribution across test and train dataset."
   ]
  }
 ],
 "metadata": {
  "kernelspec": {
   "display_name": "R",
   "language": "R",
   "name": "ir"
  },
  "language_info": {
   "codemirror_mode": "r",
   "file_extension": ".r",
   "mimetype": "text/x-r-source",
   "name": "R",
   "pygments_lexer": "r",
   "version": "3.5.1"
  }
 },
 "nbformat": 4,
 "nbformat_minor": 2
}
